{
 "cells": [
  {
   "cell_type": "code",
   "execution_count": 1,
   "metadata": {
    "collapsed": true
   },
   "outputs": [],
   "source": [
    "import requests\n",
    "from bs4 import BeautifulSoup\n",
    "\n",
    "\n"
   ]
  },
  {
   "cell_type": "code",
   "execution_count": 4,
   "metadata": {
    "collapsed": false
   },
   "outputs": [],
   "source": [
    "r=requests.get(\"http://pythonhow.com/example.html\")\n",
    "\n",
    "c=r.content"
   ]
  },
  {
   "cell_type": "code",
   "execution_count": 6,
   "metadata": {
    "collapsed": false
   },
   "outputs": [
    {
     "data": {
      "text/plain": [
       "b'<!DOCTYPE html>\\n<html>\\n<head>\\n<style>\\ndiv.cities {\\n    background-color:black;\\n    color:white;\\n    margin:20px;\\n    padding:20px;\\n} \\n</style>\\n</head>\\n<body>\\n\\n<h1 align=\"center\"> Here are three big cities </h1>\\n\\n<div class=\"cities\">\\n<h2>London</h2>\\n<p>London is the capital of England and it\\'s been a British settlement since 2000 years ago. </p>\\n</div>\\n\\n<div class=\"cities\">\\n<h2>Paris</h2>\\n<p>Paris is the capital city of France. It was declared capital since 508.</p>\\n</div>\\n\\n<div class=\"cities\">\\n<h2>Tokyo</h2>\\n<p>Tokyo is the capital of Japan and one of the most populated cities in the world.</p>\\n</div>\\n\\n</body>\\n</html>'"
      ]
     },
     "execution_count": 6,
     "metadata": {},
     "output_type": "execute_result"
    }
   ],
   "source": []
  },
  {
   "cell_type": "code",
   "execution_count": 8,
   "metadata": {
    "collapsed": false
   },
   "outputs": [],
   "source": [
    "soup=BeautifulSoup(c,\"html.parser\")"
   ]
  },
  {
   "cell_type": "code",
   "execution_count": 27,
   "metadata": {
    "collapsed": true
   },
   "outputs": [],
   "source": [
    "all=soup.find_all(\"div\",{\"class\":\"cities\"})"
   ]
  },
  {
   "cell_type": "code",
   "execution_count": 28,
   "metadata": {
    "collapsed": false
   },
   "outputs": [
    {
     "name": "stdout",
     "output_type": "stream",
     "text": [
      "London\n",
      "Paris\n",
      "Tokyo\n"
     ]
    }
   ],
   "source": [
    "for item in all:\n",
    "    print(item.find_all(\"h2\")[0].text)"
   ]
  },
  {
   "cell_type": "code",
   "execution_count": 97,
   "metadata": {
    "collapsed": false
   },
   "outputs": [
    {
     "ename": "IndexError",
     "evalue": "list index out of range",
     "output_type": "error",
     "traceback": [
      "\u001b[0;31m---------------------------------------------------------------------------\u001b[0m",
      "\u001b[0;31mIndexError\u001b[0m                                Traceback (most recent call last)",
      "\u001b[0;32m<ipython-input-97-3d8d4e989687>\u001b[0m in \u001b[0;36m<module>\u001b[0;34m()\u001b[0m\n\u001b[1;32m      6\u001b[0m \u001b[0;34m\u001b[0m\u001b[0m\n\u001b[1;32m      7\u001b[0m \u001b[0;32mfor\u001b[0m \u001b[0mitem\u001b[0m \u001b[0;32min\u001b[0m \u001b[0mnewall\u001b[0m\u001b[0;34m:\u001b[0m\u001b[0;34m\u001b[0m\u001b[0m\n\u001b[0;32m----> 8\u001b[0;31m     \u001b[0mprint\u001b[0m\u001b[0;34m(\u001b[0m\u001b[0mitem\u001b[0m\u001b[0;34m.\u001b[0m\u001b[0mfind_all\u001b[0m\u001b[0;34m(\u001b[0m\u001b[0;34m\"span\"\u001b[0m\u001b[0;34m,\u001b[0m\u001b[0mid\u001b[0m\u001b[0;34m=\u001b[0m\u001b[0;34m\"lblGaritaSentri2TimeV\"\u001b[0m\u001b[0;34m)\u001b[0m\u001b[0;34m[\u001b[0m\u001b[0;36m8\u001b[0m\u001b[0;34m]\u001b[0m\u001b[0;34m.\u001b[0m\u001b[0mtext\u001b[0m\u001b[0;34m)\u001b[0m\u001b[0;34m\u001b[0m\u001b[0m\n\u001b[0m\u001b[1;32m      9\u001b[0m \u001b[0;34m\u001b[0m\u001b[0m\n\u001b[1;32m     10\u001b[0m \u001b[0;34m\u001b[0m\u001b[0m\n",
      "\u001b[0;31mIndexError\u001b[0m: list index out of range"
     ]
    }
   ],
   "source": [
    "new =requests.get(\"http://www.lacronica.com/garitas/infoGaritasre.aspx\")\n",
    "nc=new.content\n",
    "newsoup=BeautifulSoup(nc,\"html.parser\")\n",
    "\n",
    "newall= newsoup.find_all(\"div\",{\"class\":\"div_resultados\"})\n",
    "\n",
    "for item in newall:\n",
    "    print(item.find_all(\"span\"))\n",
    "\n",
    "\n",
    "\n"
   ]
  },
  {
   "cell_type": "code",
   "execution_count": 98,
   "metadata": {
    "collapsed": false
   },
   "outputs": [
    {
     "data": {
      "text/plain": [
       "[<div class=\"div_resultados\">\n",
       " <span class=\"resultados\" id=\"lblGarita1NoLinesV\">2</span>\n",
       " </div>, <div class=\"div_resultados\">\n",
       " <span class=\"resultados2\" id=\"lblGarita1TimeV\">35 min</span></div>, <div class=\"div_resultados\">\n",
       " <span class=\"resultados\" id=\"lblGarita2NoLinesV\">8</span></div>, <div class=\"div_resultados\">\n",
       " <span class=\"resultados2\" id=\"lblGarita2TimeV\">45 min</span></div>, <div class=\"div_resultados\">\n",
       " <span class=\"resultados\" id=\"lblGarita1NoLinesP\">N/D</span></div>, <div class=\"div_resultados\">\n",
       " <span class=\"resultados2\" id=\"lblGarita1TimeP\">N/D</span></div>, <div class=\"div_resultados\">\n",
       " <span class=\"resultados\" id=\"lblGarita2NoLinesP\">2</span></div>, <div class=\"div_resultados\">\n",
       " <span class=\"resultados2\" id=\"lblGarita2TimeP\">0 min</span></div>, <div class=\"div_resultados\">\n",
       " <span class=\"resultados\" id=\"lblGaritaReady1NoLinesV\">5</span></div>, <div class=\"div_resultados\">\n",
       " <span class=\"resultados2\" id=\"lblGaritaReady1TimeV\">20 min</span></div>, <div class=\"div_resultados\">\n",
       " <span class=\"resultados\" id=\"lblGaritaReady2NoLinesV\">N/D</span></div>, <div class=\"div_resultados\">\n",
       " <span class=\"resultados2\" id=\"lblGaritaReady2TimeV\">N/D</span></div>, <div class=\"div_resultados\">\n",
       " <span class=\"resultados\" id=\"lblGaritaReady1NoLinesP\">N/D</span></div>, <div class=\"div_resultados\">\n",
       " <span class=\"resultados2\" id=\"lblGaritaReady1TimeP\">N/D</span></div>, <div class=\"div_resultados\">\n",
       " <span class=\"resultados\" id=\"lblGaritaReady2NoLinesP\">2</span></div>, <div class=\"div_resultados\">\n",
       " <span class=\"resultados2\" id=\"lblGaritaReady2TimeP\">0 min</span></div>, <div class=\"div_resultados\">\n",
       " <span class=\"resultados\" id=\"lblGaritaSentri1NoLinesV\">N/D</span></div>, <div class=\"div_resultados\">\n",
       " <span class=\"resultados2\" id=\"lblGaritaSentri1TimeV\">N/D</span></div>, <div class=\"div_resultados\">\n",
       " <span class=\"resultados\" id=\"lblGaritaSentri2NoLinesV\">2</span></div>, <div class=\"div_resultados\">\n",
       " <span class=\"resultados2\" id=\"lblGaritaSentri2TimeV\">0 min</span></div>]"
      ]
     },
     "execution_count": 98,
     "metadata": {},
     "output_type": "execute_result"
    }
   ],
   "source": [
    "newall"
   ]
  },
  {
   "cell_type": "code",
   "execution_count": null,
   "metadata": {
    "collapsed": true
   },
   "outputs": [],
   "source": []
  },
  {
   "cell_type": "code",
   "execution_count": 99,
   "metadata": {
    "collapsed": false
   },
   "outputs": [
    {
     "data": {
      "text/plain": [
       "bs4.element.ResultSet"
      ]
     },
     "execution_count": 99,
     "metadata": {},
     "output_type": "execute_result"
    }
   ],
   "source": [
    "type(newall)"
   ]
  },
  {
   "cell_type": "code",
   "execution_count": null,
   "metadata": {
    "collapsed": true
   },
   "outputs": [],
   "source": []
  }
 ],
 "metadata": {
  "kernelspec": {
   "display_name": "Python 3",
   "language": "python",
   "name": "python3"
  },
  "language_info": {
   "codemirror_mode": {
    "name": "ipython",
    "version": 3
   },
   "file_extension": ".py",
   "mimetype": "text/x-python",
   "name": "python",
   "nbconvert_exporter": "python",
   "pygments_lexer": "ipython3",
   "version": "3.5.2"
  }
 },
 "nbformat": 4,
 "nbformat_minor": 1
}
