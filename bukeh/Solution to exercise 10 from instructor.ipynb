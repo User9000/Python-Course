{
 "cells": [
  {
   "cell_type": "code",
   "execution_count": 1,
   "metadata": {
    "collapsed": false
   },
   "outputs": [
    {
     "name": "stderr",
     "output_type": "stream",
     "text": [
      "/usr/local/lib/python3.5/site-packages/bokeh/util/deprecation.py:33: BokehDeprecationWarning: Setting Plot property 'title' using a string was deprecated in 0.12.0,\n",
      "            and will be removed. The title is now an object on Plot (which holds all of it's\n",
      "            styling properties). Please use Plot.title.text instead.\n",
      "\n",
      "            SERVER USERS: If you were using plot.title to have the server update the plot title\n",
      "            in a callback, you MUST update to plot.title.text as the title object cannot currently\n",
      "            be replaced after intialization.\n",
      "            \n",
      "  warn(message)\n",
      "/usr/local/lib/python3.5/site-packages/bokeh/util/deprecation.py:33: BokehDeprecationWarning: Plot.title_text_color was deprecated in Bokeh 0.12.0 and will be removed, use Plot.title.text_color instead.\n",
      "  warn(message)\n",
      "/usr/local/lib/python3.5/site-packages/bokeh/util/deprecation.py:33: BokehDeprecationWarning: Plot.title_text_font was deprecated in Bokeh 0.12.0 and will be removed, use Plot.title.text_font instead.\n",
      "  warn(message)\n",
      "/usr/local/lib/python3.5/site-packages/bokeh/util/deprecation.py:33: BokehDeprecationWarning: Plot.title_text_font_style was deprecated in Bokeh 0.12.0 and will be removed, use Plot.title.text_font_style instead.\n",
      "  warn(message)\n"
     ]
    }
   ],
   "source": [
    "import pandas\n",
    "\n",
    "from bokeh.plotting import figure, output_file, show\n",
    "\n",
    "df=pandas.read_excel(\"http://pythonhow.com/verlegenhuken.xlsx\",sheetname=0)\n",
    "df[\"Temperature\"]=df[\"Temperature\"]/10\n",
    "df[\"Pressure\"]=df[\"Pressure\"]/10\n",
    "\n",
    "p=figure(plot_width=500,plot_height=400,tools='pan,resize',logo=None)\n",
    "\n",
    "p.title=\"Temperature and Air Pressure\"\n",
    "p.title_text_color=\"Gray\"\n",
    "p.title_text_font=\"arial\"\n",
    "p.title_text_font_style=\"bold\"\n",
    "p.xaxis.minor_tick_line_color=None\n",
    "p.yaxis.minor_tick_line_color=None\n",
    "p.xaxis.axis_label=\"Temperature (°C)\"\n",
    "p.yaxis.axis_label=\"Pressure (hPa)\"                  \n",
    "\n",
    "p.circle(df[\"Temperature\"],df[\"Pressure\"],size=0.5)\n",
    "output_file(\"Weather.html\")\n",
    "show(p)"
   ]
  },
  {
   "cell_type": "code",
   "execution_count": null,
   "metadata": {
    "collapsed": true
   },
   "outputs": [],
   "source": []
  }
 ],
 "metadata": {
  "kernelspec": {
   "display_name": "Python 3",
   "language": "python",
   "name": "python3"
  },
  "language_info": {
   "codemirror_mode": {
    "name": "ipython",
    "version": 3
   },
   "file_extension": ".py",
   "mimetype": "text/x-python",
   "name": "python",
   "nbconvert_exporter": "python",
   "pygments_lexer": "ipython3",
   "version": "3.5.2"
  }
 },
 "nbformat": 4,
 "nbformat_minor": 1
}
