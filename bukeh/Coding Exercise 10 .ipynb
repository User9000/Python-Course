{
 "cells": [
  {
   "cell_type": "code",
   "execution_count": 70,
   "metadata": {
    "collapsed": false
   },
   "outputs": [
    {
     "name": "stderr",
     "output_type": "stream",
     "text": [
      "INFO:bokeh.core.state:Session output file 'test10.html' already exists, will be overwritten.\n"
     ]
    }
   ],
   "source": [
    "from bokeh.charts import Scatter, output_file, show\n",
    "import pandas\n",
    "\n",
    "df= pandas.read_excel(\"verlegenhuken.xlsx\")\n",
    "\n",
    "df2=df.iloc[:,4:6]\n",
    "\n",
    "df3=df2[\"Temperature\"]/10\n",
    "df4 =df2[\"Pressure\"]/10\n",
    "\n",
    "df5= pandas.DataFrame({'Temperature':df3.values})\n",
    "\n",
    "df6= pandas.DataFrame({'Pressure':df4.values})\n",
    "final= pandas.concat([df5,df6],axis=1)\n",
    "\n",
    "p=Scatter(final,x=\"Temperature\",y=\"Pressure\",title=\"Temperature and Air pressure\", xlabel=\"Temperature\",ylabel=\"Pressure(hPa)\",color=\"blue\")\n",
    "\n",
    "output_file(\"test10.html\")\n",
    "show(p)\n",
    "#final\n"
   ]
  },
  {
   "cell_type": "code",
   "execution_count": 65,
   "metadata": {
    "collapsed": false
   },
   "outputs": [],
   "source": []
  },
  {
   "cell_type": "code",
   "execution_count": 68,
   "metadata": {
    "collapsed": false
   },
   "outputs": [
    {
     "name": "stderr",
     "output_type": "stream",
     "text": [
      "INFO:bokeh.core.state:Session output file 'test10.html' already exists, will be overwritten.\n"
     ]
    }
   ],
   "source": []
  },
  {
   "cell_type": "code",
   "execution_count": 37,
   "metadata": {
    "collapsed": false
   },
   "outputs": [
    {
     "data": {
      "text/plain": [
       "0         995.4\n",
       "1         996.4\n",
       "2         996.3\n",
       "3         996.8\n",
       "4         996.6\n",
       "5         996.2\n",
       "6         996.0\n",
       "7         996.3\n",
       "8         995.5\n",
       "9         994.1\n",
       "10        993.3\n",
       "11        992.2\n",
       "12        992.1\n",
       "13        992.5\n",
       "14        992.9\n",
       "15        992.6\n",
       "16        993.3\n",
       "17        993.2\n",
       "18        993.9\n",
       "19        994.7\n",
       "20        995.7\n",
       "21        996.0\n",
       "22        996.6\n",
       "23        998.0\n",
       "24        997.3\n",
       "25        997.7\n",
       "26        998.2\n",
       "27        999.1\n",
       "28        999.3\n",
       "29       1000.9\n",
       "          ...  \n",
       "33072    1006.3\n",
       "33073    1005.3\n",
       "33074    1005.5\n",
       "33075    1002.8\n",
       "33076    1002.1\n",
       "33077    1003.4\n",
       "33078    1000.7\n",
       "33079    1000.9\n",
       "33080     999.3\n",
       "33081     998.0\n",
       "33082     996.6\n",
       "33083     994.6\n",
       "33084     993.8\n",
       "33085     990.9\n",
       "33086     989.0\n",
       "33087     987.8\n",
       "33088     988.1\n",
       "33089     987.0\n",
       "33090     990.0\n",
       "33091     989.8\n",
       "33092     990.1\n",
       "33093     990.1\n",
       "33094     987.9\n",
       "33095     986.7\n",
       "33096     982.9\n",
       "33097     978.0\n",
       "33098     976.3\n",
       "33099     972.9\n",
       "33100     973.6\n",
       "33101     971.8\n",
       "dtype: float64"
      ]
     },
     "execution_count": 37,
     "metadata": {},
     "output_type": "execute_result"
    }
   ],
   "source": []
  },
  {
   "cell_type": "code",
   "execution_count": null,
   "metadata": {
    "collapsed": true
   },
   "outputs": [],
   "source": []
  }
 ],
 "metadata": {
  "kernelspec": {
   "display_name": "Python 3",
   "language": "python",
   "name": "python3"
  },
  "language_info": {
   "codemirror_mode": {
    "name": "ipython",
    "version": 3
   },
   "file_extension": ".py",
   "mimetype": "text/x-python",
   "name": "python",
   "nbconvert_exporter": "python",
   "pygments_lexer": "ipython3",
   "version": "3.5.2"
  }
 },
 "nbformat": 4,
 "nbformat_minor": 1
}
