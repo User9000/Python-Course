{
 "cells": [
  {
   "cell_type": "code",
   "execution_count": 9,
   "metadata": {
    "collapsed": false,
    "scrolled": true
   },
   "outputs": [
    {
     "name": "stderr",
     "output_type": "stream",
     "text": [
      "INFO:bokeh.core.state:Session output file 'Scatter_charts.html' already exists, will be overwritten.\n"
     ]
    }
   ],
   "source": [
    "from bokeh.charts import Scatter, output_file, show\n",
    "import pandas\n",
    "\n",
    "df=pandas.DataFrame(columns=[\"X\",\"Y\"])\n",
    "df[\"X\"]=[1,2,3,4,5]\n",
    "df[\"Y\"]=[5,6,4,5,3]\n",
    "\n",
    "p=Scatter(df, x=\"X\",y=\"Y\", title=\"Temperature Observations\", xlabel=\"Day of observations\", ylabel=\"Temperature\")\n",
    "\n",
    "output_file(\"Scatter_charts.html\")\n",
    "\n",
    "show(p)"
   ]
  },
  {
   "cell_type": "code",
   "execution_count": 11,
   "metadata": {
    "collapsed": false,
    "scrolled": true
   },
   "outputs": [
    {
     "name": "stderr",
     "output_type": "stream",
     "text": [
      "INFO:bokeh.core.state:Session output file 'Scatter_plotting.html' already exists, will be overwritten.\n"
     ]
    }
   ],
   "source": [
    "from bokeh.plotting import figure, output_file,show\n",
    "\n",
    "p=figure(plot_width=500, plot_height=400,title=\"Earthquakes\")\n",
    "p.circle([1,2,3,4,5],[5,6,5,5,3],size=[i*2 for i in [8,12,14,15,20]],color=\"red\",alpha=0.5)\n",
    "\n",
    "\n",
    "output_file(\"Scatter_plotting.html\")\n",
    "show(p)\n"
   ]
  },
  {
   "cell_type": "code",
   "execution_count": null,
   "metadata": {
    "collapsed": true
   },
   "outputs": [],
   "source": [
    "from bokeh.plotting import figure, output_file,show\n",
    "\n",
    "p=figure(plot_width=500, plot_height=400)\n",
    "\n",
    "p.title=\"Earthquake\"\n",
    "p.title_text_color=\"Orange\"\n",
    "p.title_text_font=\"times\"\n",
    "p.title_text_font_style=\"italic\"\n",
    "p.circle([1,2,3,4,5],[5,6,5,5,3],size=[i*2 for i in [8,12,14,15,20]],color=\"red\",alpha=0.5)\n",
    "\n",
    "\n",
    "output_file(\"Scatter_plotting.html\")\n",
    "show(p)"
   ]
  }
 ],
 "metadata": {
  "kernelspec": {
   "display_name": "Python 3",
   "language": "python",
   "name": "python3"
  },
  "language_info": {
   "codemirror_mode": {
    "name": "ipython",
    "version": 3
   },
   "file_extension": ".py",
   "mimetype": "text/x-python",
   "name": "python",
   "nbconvert_exporter": "python",
   "pygments_lexer": "ipython3",
   "version": "3.5.2"
  }
 },
 "nbformat": 4,
 "nbformat_minor": 1
}
